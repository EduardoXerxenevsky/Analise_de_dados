{
 "cells": [
  {
   "cell_type": "markdown",
   "id": "98ffab09",
   "metadata": {},
   "source": [
    "\n",
    "# Análise de Vendas - Projeto Pessoal\n",
    "\n"
   ]
  },
  {
   "cell_type": "markdown",
   "id": "306c4b67",
   "metadata": {},
   "source": [
    " Importação das Bibliotecas\n",
    "```python\n",
    "import pandas as pd\n",
    "import matplotlib.pyplot as plt\n",
    "import seaborn as sns\n",
    "```\n"
   ]
  },
  {
   "cell_type": "markdown",
   "id": "fd0fb89e",
   "metadata": {},
   "source": [
    " Carregamento dos Dados\n",
    "```python\n",
    "# Carregar o dataset\n",
    "df = pd.read_csv(\"data/mock_sales_data.csv\")\n",
    "\n",
    "# Exibir as primeiras linhas do dataset\n",
    "df.head()\n",
    "```\n",
    "\n"
   ]
  },
  {
   "cell_type": "markdown",
   "id": "343c8602",
   "metadata": {},
   "source": [
    " Limpeza e Pré-processamento\n",
    "```python\n",
    "# Converter a coluna de data para o formato correto\n",
    "df['date'] = pd.to_datetime(df['date'])\n",
    "\n",
    "# Verificar valores ausentes\n",
    "missing_values = df.isnull().sum()\n",
    "\n",
    "# Verificar duplicatas\n",
    "duplicates = df.duplicated().sum()\n",
    "```\n",
    "\n"
   ]
  },
  {
   "cell_type": "markdown",
   "id": "0132287e",
   "metadata": {},
   "source": [
    " Análise Exploratória\n",
    "\n"
   ]
  },
  {
   "cell_type": "markdown",
   "id": "d9afcb08",
   "metadata": {},
   "source": [
    "# Vendas Totais e Ticket Médio\n",
    "```python\n",
    "\n",
    "total_sales = df['total_price'].sum()\n",
    "avg_ticket = df['total_price'].mean()\n",
    "\n",
    "total_sales, avg_ticket\n",
    "```\n",
    "\n"
   ]
  },
  {
   "cell_type": "markdown",
   "id": "5e6132c6",
   "metadata": {},
   "source": [
    "# Produtos Mais Vendidos\n",
    "```python\n",
    "# Produtos mais vendidos\n",
    "top_products = df['product_category'].value_counts().head(5)\n",
    "top_products\n",
    "```\n",
    "\n"
   ]
  },
  {
   "cell_type": "markdown",
   "id": "43ea0ed3",
   "metadata": {},
   "source": [
    "# Métodos de Pagamento Mais Utilizados\n",
    "```python\n",
    "# Métodos de pagamento mais utilizados\n",
    "top_payment_methods = df['payment_method'].value_counts()\n",
    "top_payment_methods\n",
    "```\n",
    "\n"
   ]
  },
  {
   "cell_type": "markdown",
   "id": "b505d360",
   "metadata": {},
   "source": [
    "# Cidades com Mais Compras\n",
    "```python\n",
    "# Cidades com mais compras\n",
    "top_cities = df['customer_city'].value_counts().head(5)\n",
    "top_cities\n",
    "```\n",
    "\n"
   ]
  },
  {
   "cell_type": "markdown",
   "id": "c5206c82",
   "metadata": {},
   "source": [
    " Visualizações\n",
    "\n"
   ]
  },
  {
   "cell_type": "markdown",
   "id": "ed97f4b3",
   "metadata": {},
   "source": [
    "# Gráfico de Produtos Mais Vendidos\n",
    "```python\n",
    "# Gráfico de barras para os produtos mais vendidos\n",
    "plt.figure(figsize=(10, 6))\n",
    "top_products.plot(kind='bar', color='skyblue')\n",
    "plt.title('Produtos Mais Vendidos')\n",
    "plt.xlabel('Categoria de Produto')\n",
    "plt.ylabel('Número de Vendas')\n",
    "plt.xticks(rotation=45)\n",
    "plt.show()\n",
    "```\n",
    "\n"
   ]
  },
  {
   "cell_type": "markdown",
   "id": "28307db2",
   "metadata": {},
   "source": [
    "# Gráfico de Métodos de Pagamento\n",
    "```python\n",
    "# Gráfico de pizza para métodos de pagamento\n",
    "payment_method_counts = df['payment_method'].value_counts()\n",
    "plt.figure(figsize=(8, 8))\n",
    "payment_method_counts.plot(kind='pie', autopct='%1.1f%%', startangle=90, colors=sns.color_palette(\"Set3\", len(payment_method_counts)))\n",
    "plt.title('Distribuição dos Métodos de Pagamento')\n",
    "plt.ylabel('')\n",
    "plt.show()\n",
    "```\n",
    "\n"
   ]
  },
  {
   "cell_type": "markdown",
   "id": "1b66fe3a",
   "metadata": {},
   "source": [
    " Conclusões\n",
    "- A análise exploratória mostrou que as vendas estão concentradas principalmente nas categorias de **Beleza**, **Esportes** e **Roupas**.\n",
    "- O **Pix** é o método de pagamento mais utilizado, seguido pela **Transferência Bancária**.\n",
    "- As cidades com maior volume de vendas são **Cardoso**, **Caldeira** e **Nogueira**.\n",
    "\n",
    "Com base nesses dados, você pode realizar ações estratégicas para aumentar as vendas em cidades com menor desempenho ou melhorar a experiência de pagamento no **Pix**.\n"
   ]
  }
 ],
 "metadata": {
  "language_info": {
   "name": "python"
  }
 },
 "nbformat": 4,
 "nbformat_minor": 5
}
